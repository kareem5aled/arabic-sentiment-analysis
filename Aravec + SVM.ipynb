{
  "nbformat": 4,
  "nbformat_minor": 0,
  "metadata": {
    "colab": {
      "name": "Copy of Arabic-nlp-unbalance.ipynb",
      "provenance": [],
      "collapsed_sections": []
    },
    "kernelspec": {
      "name": "python3",
      "display_name": "Python 3"
    }
  },
  "cells": [
    {
      "cell_type": "code",
      "metadata": {
        "id": "KastX5AqOPOd",
        "colab": {
          "base_uri": "https://localhost:8080/"
        },
        "outputId": "2d85eb93-1705-401f-c2df-fae6849cdf53"
      },
      "source": [
        "from google.colab import drive\n",
        "drive.mount('/gdrive')\n",
        "%cd /gdrive\n",
        "%cd MyDrive/'ML Project '/Data/query\n",
        "!ls"
      ],
      "execution_count": 1,
      "outputs": [
        {
          "output_type": "stream",
          "text": [
            "Mounted at /gdrive\n",
            "/gdrive\n",
            "/gdrive/MyDrive/ML Project /Data/query\n",
            "full_labeled_data.csv  outvectors.npy  train1.json  train2.json\n",
            "outlabels.npy\t       train1.csv      train2.csv\n"
          ],
          "name": "stdout"
        }
      ]
    },
    {
      "cell_type": "code",
      "metadata": {
        "id": "Qnveq54kQhln"
      },
      "source": [
        "import pandas as pd\n",
        "import numpy as np\n",
        "from sklearn import svm\n",
        "from sklearn.metrics import f1_score\n",
        "from sklearn.metrics import recall_score"
      ],
      "execution_count": 2,
      "outputs": []
    },
    {
      "cell_type": "code",
      "metadata": {
        "colab": {
          "base_uri": "https://localhost:8080/"
        },
        "id": "exzJyK6nSH8E",
        "outputId": "3ff2e565-c66c-43aa-f144-25443621de6e"
      },
      "source": [
        "data = np.load(\"outvectors.npy\")\n",
        "labels = np.load(\"outlabels.npy\")\n",
        "\n",
        "data.shape, labels.shape"
      ],
      "execution_count": 3,
      "outputs": [
        {
          "output_type": "execute_result",
          "data": {
            "text/plain": [
              "((55002, 300), (55002,))"
            ]
          },
          "metadata": {
            "tags": []
          },
          "execution_count": 3
        }
      ]
    },
    {
      "cell_type": "code",
      "metadata": {
        "id": "HUeV4Wt0Twim"
      },
      "source": [
        "per = np.random.permutation(len(data))\n",
        "\n",
        "data = data[per]\n",
        "labels = labels[per]\n"
      ],
      "execution_count": 6,
      "outputs": []
    },
    {
      "cell_type": "code",
      "metadata": {
        "colab": {
          "base_uri": "https://localhost:8080/"
        },
        "id": "ZddZyB4SYk5h",
        "outputId": "2d74acf0-e410-4c96-a420-e7886fd027c1"
      },
      "source": [
        "x_train = data[:50000]\n",
        "y_train = labels[:50000]\n",
        "\n",
        "x_test = data[50000:]\n",
        "y_test = labels[50000:]\n",
        "\n",
        "x_train.shape, y_train.shape, x_test.shape, y_test.shape"
      ],
      "execution_count": 7,
      "outputs": [
        {
          "output_type": "execute_result",
          "data": {
            "text/plain": [
              "((50000, 300), (50000,), (5002, 300), (5002,))"
            ]
          },
          "metadata": {
            "tags": []
          },
          "execution_count": 7
        }
      ]
    },
    {
      "cell_type": "code",
      "metadata": {
        "colab": {
          "base_uri": "https://localhost:8080/"
        },
        "id": "nkZSesPqZmNY",
        "outputId": "7c46f635-5668-4671-9cda-96a5841c9e8a"
      },
      "source": [
        "(unique, counts) = np.unique(y_train, return_counts=True)\n",
        "least = min(counts)\n",
        "\n",
        "counts, least"
      ],
      "execution_count": 10,
      "outputs": [
        {
          "output_type": "execute_result",
          "data": {
            "text/plain": [
              "(array([ 8010, 33930,  8060]), 8010)"
            ]
          },
          "metadata": {
            "tags": []
          },
          "execution_count": 10
        }
      ]
    },
    {
      "cell_type": "code",
      "metadata": {
        "colab": {
          "base_uri": "https://localhost:8080/"
        },
        "id": "glj_axj9cCaD",
        "outputId": "9bccf8e6-6ffe-4c4c-b163-4079a2a3cdd3"
      },
      "source": [
        "pos = np.asarray(data[np.nonzero(y_train == 1)])\n",
        "neut = np.asarray(data[np.nonzero(y_train == 0)])\n",
        "neg = np.asarray(data[np.nonzero(y_train == -1)])\n",
        "pos.shape, neg.shape, neut.shape"
      ],
      "execution_count": 11,
      "outputs": [
        {
          "output_type": "execute_result",
          "data": {
            "text/plain": [
              "((8060, 300), (8010, 300), (33930, 300))"
            ]
          },
          "metadata": {
            "tags": []
          },
          "execution_count": 11
        }
      ]
    },
    {
      "cell_type": "code",
      "metadata": {
        "colab": {
          "base_uri": "https://localhost:8080/"
        },
        "id": "CkpSjKB9ci3P",
        "outputId": "1825387e-2d91-4f1a-93c9-73f2b37fc6be"
      },
      "source": [
        "x_train_bal = np.concatenate((pos[:least], neg[:least], neut[:least]))\n",
        "y_train_bal = np.concatenate((np.ones((least,)), -1 * np.ones((least,)), np.zeros((least,))))\n",
        "\n",
        "x_train_bal.shape, y_train_bal.shape"
      ],
      "execution_count": 12,
      "outputs": [
        {
          "output_type": "execute_result",
          "data": {
            "text/plain": [
              "((24030, 300), (24030,))"
            ]
          },
          "metadata": {
            "tags": []
          },
          "execution_count": 12
        }
      ]
    },
    {
      "cell_type": "code",
      "metadata": {
        "id": "dPy7Cvk5fDnR"
      },
      "source": [
        "perm = np.random.permutation(len(x_train_bal))\n",
        "\n",
        "x_train_bal = x_train_bal[perm]\n",
        "y_train_bal = y_train_bal[perm]\n",
        "\n"
      ],
      "execution_count": 13,
      "outputs": []
    },
    {
      "cell_type": "code",
      "metadata": {
        "colab": {
          "base_uri": "https://localhost:8080/"
        },
        "id": "d4Ru3bMckbKt",
        "outputId": "8988849a-33c0-4360-834c-b91becb34756"
      },
      "source": [
        "(unique, counts) = np.unique(y_test, return_counts=True)\n",
        "counts"
      ],
      "execution_count": 14,
      "outputs": [
        {
          "output_type": "execute_result",
          "data": {
            "text/plain": [
              "array([ 810, 3431,  761])"
            ]
          },
          "metadata": {
            "tags": []
          },
          "execution_count": 14
        }
      ]
    },
    {
      "cell_type": "markdown",
      "metadata": {
        "id": "CiQNGgIwhjrH"
      },
      "source": [
        "CLASSIFY USING BALANCED DATA"
      ]
    },
    {
      "cell_type": "code",
      "metadata": {
        "colab": {
          "base_uri": "https://localhost:8080/"
        },
        "id": "FXc98dymf4PO",
        "outputId": "9a3c43f2-5bb8-425d-b455-50981c0a7d38"
      },
      "source": [
        "clf = svm.SVC()\n",
        "clf.fit(x_train_bal, y_train_bal)"
      ],
      "execution_count": 15,
      "outputs": [
        {
          "output_type": "execute_result",
          "data": {
            "text/plain": [
              "SVC(C=1.0, break_ties=False, cache_size=200, class_weight=None, coef0=0.0,\n",
              "    decision_function_shape='ovr', degree=3, gamma='scale', kernel='rbf',\n",
              "    max_iter=-1, probability=False, random_state=None, shrinking=True,\n",
              "    tol=0.001, verbose=False)"
            ]
          },
          "metadata": {
            "tags": []
          },
          "execution_count": 15
        }
      ]
    },
    {
      "cell_type": "code",
      "metadata": {
        "colab": {
          "base_uri": "https://localhost:8080/"
        },
        "id": "fca60TvuhLVd",
        "outputId": "14b6ea1d-ea85-4c1a-aa74-b61d520c9bde"
      },
      "source": [
        "y_pred = clf.predict(x_test)\n",
        "f1 = f1_score(y_pred, y_test, average = None)\n",
        "recall = recall_score(y_pred, y_test, average = None)\n",
        "f1, recall"
      ],
      "execution_count": 16,
      "outputs": [
        {
          "output_type": "execute_result",
          "data": {
            "text/plain": [
              "(array([0.58987459, 0.80138112, 0.67834935]),\n",
              " array([0.47282204, 0.91927575, 0.5952381 ]))"
            ]
          },
          "metadata": {
            "tags": []
          },
          "execution_count": 16
        }
      ]
    },
    {
      "cell_type": "markdown",
      "metadata": {
        "id": "PBhz-pv6hsZ7"
      },
      "source": [
        "TRAIN ON ORIGINAL DATA"
      ]
    },
    {
      "cell_type": "code",
      "metadata": {
        "colab": {
          "base_uri": "https://localhost:8080/"
        },
        "id": "TWq90aGBiXqO",
        "outputId": "04aca53f-6b0a-4e88-ea01-0e62bf3eb455"
      },
      "source": [
        "clf2 = svm.SVC()\n",
        "clf2.fit(x_train, y_train)"
      ],
      "execution_count": 17,
      "outputs": [
        {
          "output_type": "execute_result",
          "data": {
            "text/plain": [
              "SVC(C=1.0, break_ties=False, cache_size=200, class_weight=None, coef0=0.0,\n",
              "    decision_function_shape='ovr', degree=3, gamma='scale', kernel='rbf',\n",
              "    max_iter=-1, probability=False, random_state=None, shrinking=True,\n",
              "    tol=0.001, verbose=False)"
            ]
          },
          "metadata": {
            "tags": []
          },
          "execution_count": 17
        }
      ]
    },
    {
      "cell_type": "code",
      "metadata": {
        "colab": {
          "base_uri": "https://localhost:8080/"
        },
        "id": "UONmUQkpiaN5",
        "outputId": "7431e5f0-b0e4-424c-f441-cb0e288efa12"
      },
      "source": [
        "y_pred2 = clf2.predict(x_test)\n",
        "f1 = f1_score(y_pred2, y_test, average = None)\n",
        "recall = recall_score(y_pred2, y_test, average = None)\n",
        "f1, recall"
      ],
      "execution_count": 18,
      "outputs": [
        {
          "output_type": "execute_result",
          "data": {
            "text/plain": [
              "(array([0.55309396, 0.87840785, 0.69904341]),\n",
              " array([0.7254509 , 0.82509603, 0.79431438]))"
            ]
          },
          "metadata": {
            "tags": []
          },
          "execution_count": 18
        }
      ]
    },
    {
      "cell_type": "code",
      "metadata": {
        "colab": {
          "base_uri": "https://localhost:8080/"
        },
        "id": "Y8oVgsjOiZu6",
        "outputId": "b27d3c70-0921-43ad-927d-d02ebba21dae"
      },
      "source": [
        "(unique, counts) = np.unique(y_pred2, return_counts=True)\r\n",
        "least = min(counts)\r\n",
        "\r\n",
        "counts, least"
      ],
      "execution_count": 19,
      "outputs": [
        {
          "output_type": "execute_result",
          "data": {
            "text/plain": [
              "(array([ 499, 3905,  598]), 499)"
            ]
          },
          "metadata": {
            "tags": []
          },
          "execution_count": 19
        }
      ]
    },
    {
      "cell_type": "markdown",
      "metadata": {
        "id": "I5v6ZPZEuLD9"
      },
      "source": [
        "MAKE 2 CLASSIFIERS, NEUT vs ALL, then POS vs Neg"
      ]
    },
    {
      "cell_type": "code",
      "metadata": {
        "colab": {
          "base_uri": "https://localhost:8080/"
        },
        "id": "we4GaE2UuKS-",
        "outputId": "c1e2dc45-4a26-4011-a13d-7030f32294f3"
      },
      "source": [
        "x_train_pn = np.concatenate((pos,neg))\n",
        "y_train_pn = np.concatenate((np.ones(len(pos),), -1 * np.ones((len(neg),))))\n",
        "\n",
        "x_train_neut = np.concatenate((pos,neg,neut))\n",
        "y_train_neut = np.concatenate((np.ones((len(pos) + len(neg),)), np.zeros((len(neut),))))\n",
        "\n",
        "perm1 = np.random.permutation(len(y_train_pn))\n",
        "x_train_pn = x_train_pn[perm1]\n",
        "y_train_pn = y_train_pn[perm1] \n",
        "\n",
        "perm2 = np.random.permutation(len(y_train_neut))\n",
        "\n",
        "x_train_neut = x_train_neut[perm2]\n",
        "y_train_neut = y_train_neut[perm2]\n",
        "\n",
        "x_train_pn.shape, y_train_pn.shape, x_train_neut.shape, y_train_neut.shape"
      ],
      "execution_count": 20,
      "outputs": [
        {
          "output_type": "execute_result",
          "data": {
            "text/plain": [
              "((16070, 300), (16070,), (50000, 300), (50000,))"
            ]
          },
          "metadata": {
            "tags": []
          },
          "execution_count": 20
        }
      ]
    },
    {
      "cell_type": "code",
      "metadata": {
        "colab": {
          "base_uri": "https://localhost:8080/"
        },
        "id": "2RK1Wjajv7UF",
        "outputId": "380036ca-6a4e-40b2-dc63-4c5d92b01fbb"
      },
      "source": [
        "clf_neut = svm.SVC()\n",
        "clf_pn = svm.SVC()\n",
        "clf_neut.fit(x_train_neut, y_train_neut)\n",
        "clf_pn.fit(x_train_pn, y_train_pn)"
      ],
      "execution_count": 21,
      "outputs": [
        {
          "output_type": "execute_result",
          "data": {
            "text/plain": [
              "SVC(C=1.0, break_ties=False, cache_size=200, class_weight=None, coef0=0.0,\n",
              "    decision_function_shape='ovr', degree=3, gamma='scale', kernel='rbf',\n",
              "    max_iter=-1, probability=False, random_state=None, shrinking=True,\n",
              "    tol=0.001, verbose=False)"
            ]
          },
          "metadata": {
            "tags": []
          },
          "execution_count": 21
        }
      ]
    },
    {
      "cell_type": "code",
      "metadata": {
        "id": "-g3it85-wITT"
      },
      "source": [
        "y_pred = np.zeros((len(y_test),))\n",
        "\n",
        "pn_pred = clf_pn.predict(x_test)\n",
        "neut_pred = clf_neut.predict(x_test)\n",
        "\n",
        "for i in range(len(neut_pred)):\n",
        "  if neut_pred[i] != 0:\n",
        "    y_pred[i] = pn_pred[i]"
      ],
      "execution_count": 24,
      "outputs": []
    },
    {
      "cell_type": "code",
      "metadata": {
        "colab": {
          "base_uri": "https://localhost:8080/"
        },
        "id": "T53HQXBXxQsJ",
        "outputId": "35f31ce7-c45d-4e45-c1a2-57222a47dfb1"
      },
      "source": [
        "f1 = f1_score(y_pred, y_test, average = None)\n",
        "recall = recall_score(y_pred, y_test, average = None)\n",
        "f1, recall"
      ],
      "execution_count": 25,
      "outputs": [
        {
          "output_type": "execute_result",
          "data": {
            "text/plain": [
              "(array([0.55259467, 0.87540204, 0.70497547]),\n",
              " array([0.63961039, 0.84139785, 0.75525526]))"
            ]
          },
          "metadata": {
            "tags": []
          },
          "execution_count": 25
        }
      ]
    }
  ]
}