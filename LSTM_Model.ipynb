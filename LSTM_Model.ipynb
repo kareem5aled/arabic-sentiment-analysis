{
  "nbformat": 4,
  "nbformat_minor": 0,
  "metadata": {
    "colab": {
      "name": "LSTM Model",
      "provenance": [],
      "collapsed_sections": []
    },
    "kernelspec": {
      "display_name": "Python 3",
      "language": "python",
      "name": "python3"
    },
    "language_info": {
      "codemirror_mode": {
        "name": "ipython",
        "version": 3
      },
      "file_extension": ".py",
      "mimetype": "text/x-python",
      "name": "python",
      "nbconvert_exporter": "python",
      "pygments_lexer": "ipython3",
      "version": "3.6.5"
    }
  },
  "cells": [
    {
      "cell_type": "code",
      "metadata": {
        "colab": {
          "base_uri": "https://localhost:8080/"
        },
        "id": "-dK-c7is_kmo",
        "outputId": "29a4a993-4c05-47d7-ce06-99e428b26d95"
      },
      "source": [
        "from google.colab import drive\r\n",
        "drive.mount('/content/drive')"
      ],
      "execution_count": 1,
      "outputs": [
        {
          "output_type": "stream",
          "text": [
            "Mounted at /content/drive\n"
          ],
          "name": "stdout"
        }
      ]
    },
    {
      "cell_type": "code",
      "metadata": {
        "colab": {
          "base_uri": "https://localhost:8080/"
        },
        "id": "YKzQfn-DCl6k",
        "outputId": "84bce558-1425-434f-ddfd-86ea58a4dcc9"
      },
      "source": [
        "%pip install keras-metrics"
      ],
      "execution_count": 2,
      "outputs": [
        {
          "output_type": "stream",
          "text": [
            "Collecting keras-metrics\n",
            "  Downloading https://files.pythonhosted.org/packages/32/c9/a87420da8e73de944e63a8e9cdcfb1f03ca31a7c4cdcdbd45d2cdf13275a/keras_metrics-1.1.0-py2.py3-none-any.whl\n",
            "Requirement already satisfied: Keras>=2.1.5 in /usr/local/lib/python3.6/dist-packages (from keras-metrics) (2.4.3)\n",
            "Requirement already satisfied: pyyaml in /usr/local/lib/python3.6/dist-packages (from Keras>=2.1.5->keras-metrics) (3.13)\n",
            "Requirement already satisfied: h5py in /usr/local/lib/python3.6/dist-packages (from Keras>=2.1.5->keras-metrics) (2.10.0)\n",
            "Requirement already satisfied: numpy>=1.9.1 in /usr/local/lib/python3.6/dist-packages (from Keras>=2.1.5->keras-metrics) (1.19.5)\n",
            "Requirement already satisfied: scipy>=0.14 in /usr/local/lib/python3.6/dist-packages (from Keras>=2.1.5->keras-metrics) (1.4.1)\n",
            "Requirement already satisfied: six in /usr/local/lib/python3.6/dist-packages (from h5py->Keras>=2.1.5->keras-metrics) (1.15.0)\n",
            "Installing collected packages: keras-metrics\n",
            "Successfully installed keras-metrics-1.1.0\n"
          ],
          "name": "stdout"
        }
      ]
    },
    {
      "cell_type": "code",
      "metadata": {
        "id": "OUDLq6_3_Q8V"
      },
      "source": [
        "import numpy as np\n",
        "import pandas as pd\n",
        "\n",
        "import gensim\n",
        "from gensim.models import Word2Vec\n",
        "LabeledSentence = gensim.models.doc2vec.LabeledSentence \n",
        "\n",
        "from tqdm import tqdm\n",
        "tqdm.pandas(desc=\"progress-bar\")\n",
        "\n",
        "from nltk.tokenize import TweetTokenizer\n",
        "tokenizer = TweetTokenizer()\n",
        "\n",
        "from sklearn.model_selection import train_test_split\n",
        "from sklearn.feature_extraction.text import TfidfVectorizer"
      ],
      "execution_count": 3,
      "outputs": []
    },
    {
      "cell_type": "markdown",
      "metadata": {
        "id": "VEsBYleCpCk8"
      },
      "source": [
        "# **df_test preprocessing**"
      ]
    },
    {
      "cell_type": "code",
      "metadata": {
        "colab": {
          "base_uri": "https://localhost:8080/",
          "height": 402
        },
        "id": "r72b4ZLn6wIC",
        "outputId": "28065fec-2b61-43b7-bd84-89bfabdcaf53"
      },
      "source": [
        "df_test = pd.read_csv ('/content/drive/My Drive/arabic sentiment analysis/arabic-sentiment-analysis/full_labeled_data.csv')\r\n",
        "df_test"
      ],
      "execution_count": 4,
      "outputs": [
        {
          "output_type": "execute_result",
          "data": {
            "text/html": [
              "<div>\n",
              "<style scoped>\n",
              "    .dataframe tbody tr th:only-of-type {\n",
              "        vertical-align: middle;\n",
              "    }\n",
              "\n",
              "    .dataframe tbody tr th {\n",
              "        vertical-align: top;\n",
              "    }\n",
              "\n",
              "    .dataframe thead th {\n",
              "        text-align: right;\n",
              "    }\n",
              "</style>\n",
              "<table border=\"1\" class=\"dataframe\">\n",
              "  <thead>\n",
              "    <tr style=\"text-align: right;\">\n",
              "      <th></th>\n",
              "      <th>text</th>\n",
              "      <th>sentiment</th>\n",
              "    </tr>\n",
              "  </thead>\n",
              "  <tbody>\n",
              "    <tr>\n",
              "      <th>0</th>\n",
              "      <td>@nas_alharbi8 والله حسب الأرقام سيكون مخيب للآ...</td>\n",
              "      <td>Positive</td>\n",
              "    </tr>\n",
              "    <tr>\n",
              "      <th>1</th>\n",
              "      <td>\"الزعل بيغير ملامحك ، بيغير نظرة العين ، بيغير...</td>\n",
              "      <td>Neutral</td>\n",
              "    </tr>\n",
              "    <tr>\n",
              "      <th>2</th>\n",
              "      <td>الحب الحقيقي هو اقتسام بعض نفسك مع شخص أخر أقر...</td>\n",
              "      <td>Positive</td>\n",
              "    </tr>\n",
              "    <tr>\n",
              "      <th>3</th>\n",
              "      <td>@Mo_Fat7 النهضة في فتيل 😂</td>\n",
              "      <td>Positive</td>\n",
              "    </tr>\n",
              "    <tr>\n",
              "      <th>4</th>\n",
              "      <td>@halgawi @DmfMohe ليس حباً في ايران بقدر ماهو ...</td>\n",
              "      <td>Neutral</td>\n",
              "    </tr>\n",
              "    <tr>\n",
              "      <th>...</th>\n",
              "      <td>...</td>\n",
              "      <td>...</td>\n",
              "    </tr>\n",
              "    <tr>\n",
              "      <th>54996</th>\n",
              "      <td>@MCgovSA تم رفع بلاغ بتاريخ 24-8 وتم اعتماده و...</td>\n",
              "      <td>Neutral</td>\n",
              "    </tr>\n",
              "    <tr>\n",
              "      <th>54997</th>\n",
              "      <td>#تصنيف_دايم_للتخصصات_الصحيه٥ بالامس تحدثونا عن...</td>\n",
              "      <td>Neutral</td>\n",
              "    </tr>\n",
              "    <tr>\n",
              "      <th>54998</th>\n",
              "      <td>@MCgovSA  اتمنى تحلون المشكله وش  يعني لما نلغ...</td>\n",
              "      <td>Neutral</td>\n",
              "    </tr>\n",
              "    <tr>\n",
              "      <th>54999</th>\n",
              "      <td>@mhrsd_care حاب استفسر اذا منشآتي من ضمن المنش...</td>\n",
              "      <td>Neutral</td>\n",
              "    </tr>\n",
              "    <tr>\n",
              "      <th>55000</th>\n",
              "      <td>@mhrsd_care تقولون كلمونا على شبكة التواصل ولا...</td>\n",
              "      <td>Neutral</td>\n",
              "    </tr>\n",
              "  </tbody>\n",
              "</table>\n",
              "<p>55001 rows × 2 columns</p>\n",
              "</div>"
            ],
            "text/plain": [
              "                                                    text sentiment\n",
              "0      @nas_alharbi8 والله حسب الأرقام سيكون مخيب للآ...  Positive\n",
              "1      \"الزعل بيغير ملامحك ، بيغير نظرة العين ، بيغير...   Neutral\n",
              "2      الحب الحقيقي هو اقتسام بعض نفسك مع شخص أخر أقر...  Positive\n",
              "3                              @Mo_Fat7 النهضة في فتيل 😂  Positive\n",
              "4      @halgawi @DmfMohe ليس حباً في ايران بقدر ماهو ...   Neutral\n",
              "...                                                  ...       ...\n",
              "54996  @MCgovSA تم رفع بلاغ بتاريخ 24-8 وتم اعتماده و...   Neutral\n",
              "54997  #تصنيف_دايم_للتخصصات_الصحيه٥ بالامس تحدثونا عن...   Neutral\n",
              "54998  @MCgovSA  اتمنى تحلون المشكله وش  يعني لما نلغ...   Neutral\n",
              "54999  @mhrsd_care حاب استفسر اذا منشآتي من ضمن المنش...   Neutral\n",
              "55000  @mhrsd_care تقولون كلمونا على شبكة التواصل ولا...   Neutral\n",
              "\n",
              "[55001 rows x 2 columns]"
            ]
          },
          "metadata": {
            "tags": []
          },
          "execution_count": 4
        }
      ]
    },
    {
      "cell_type": "code",
      "metadata": {
        "colab": {
          "base_uri": "https://localhost:8080/",
          "height": 402
        },
        "id": "6rzfHKyjYz37",
        "outputId": "0765bf80-1ced-4669-f906-35f795c09890"
      },
      "source": [
        "df_test.columns = ['text' , 'label' ]\r\n",
        "for i in range (len(df_test['label'])):\r\n",
        "  if (df_test['label'][i] == 'Neutral'):\r\n",
        "    df_test['label'][i] = 0\r\n",
        "  elif (df_test['label'][i] == 'Positive'):\r\n",
        "    df_test['label'][i] = 1\r\n",
        "  elif (df_test['label'][i] == 'Negative'):\r\n",
        "   df_test['label'][i] = 2\r\n",
        "\r\n",
        "df_test"
      ],
      "execution_count": 5,
      "outputs": [
        {
          "output_type": "execute_result",
          "data": {
            "text/html": [
              "<div>\n",
              "<style scoped>\n",
              "    .dataframe tbody tr th:only-of-type {\n",
              "        vertical-align: middle;\n",
              "    }\n",
              "\n",
              "    .dataframe tbody tr th {\n",
              "        vertical-align: top;\n",
              "    }\n",
              "\n",
              "    .dataframe thead th {\n",
              "        text-align: right;\n",
              "    }\n",
              "</style>\n",
              "<table border=\"1\" class=\"dataframe\">\n",
              "  <thead>\n",
              "    <tr style=\"text-align: right;\">\n",
              "      <th></th>\n",
              "      <th>text</th>\n",
              "      <th>label</th>\n",
              "    </tr>\n",
              "  </thead>\n",
              "  <tbody>\n",
              "    <tr>\n",
              "      <th>0</th>\n",
              "      <td>@nas_alharbi8 والله حسب الأرقام سيكون مخيب للآ...</td>\n",
              "      <td>1</td>\n",
              "    </tr>\n",
              "    <tr>\n",
              "      <th>1</th>\n",
              "      <td>\"الزعل بيغير ملامحك ، بيغير نظرة العين ، بيغير...</td>\n",
              "      <td>0</td>\n",
              "    </tr>\n",
              "    <tr>\n",
              "      <th>2</th>\n",
              "      <td>الحب الحقيقي هو اقتسام بعض نفسك مع شخص أخر أقر...</td>\n",
              "      <td>1</td>\n",
              "    </tr>\n",
              "    <tr>\n",
              "      <th>3</th>\n",
              "      <td>@Mo_Fat7 النهضة في فتيل 😂</td>\n",
              "      <td>1</td>\n",
              "    </tr>\n",
              "    <tr>\n",
              "      <th>4</th>\n",
              "      <td>@halgawi @DmfMohe ليس حباً في ايران بقدر ماهو ...</td>\n",
              "      <td>0</td>\n",
              "    </tr>\n",
              "    <tr>\n",
              "      <th>...</th>\n",
              "      <td>...</td>\n",
              "      <td>...</td>\n",
              "    </tr>\n",
              "    <tr>\n",
              "      <th>54996</th>\n",
              "      <td>@MCgovSA تم رفع بلاغ بتاريخ 24-8 وتم اعتماده و...</td>\n",
              "      <td>0</td>\n",
              "    </tr>\n",
              "    <tr>\n",
              "      <th>54997</th>\n",
              "      <td>#تصنيف_دايم_للتخصصات_الصحيه٥ بالامس تحدثونا عن...</td>\n",
              "      <td>0</td>\n",
              "    </tr>\n",
              "    <tr>\n",
              "      <th>54998</th>\n",
              "      <td>@MCgovSA  اتمنى تحلون المشكله وش  يعني لما نلغ...</td>\n",
              "      <td>0</td>\n",
              "    </tr>\n",
              "    <tr>\n",
              "      <th>54999</th>\n",
              "      <td>@mhrsd_care حاب استفسر اذا منشآتي من ضمن المنش...</td>\n",
              "      <td>0</td>\n",
              "    </tr>\n",
              "    <tr>\n",
              "      <th>55000</th>\n",
              "      <td>@mhrsd_care تقولون كلمونا على شبكة التواصل ولا...</td>\n",
              "      <td>0</td>\n",
              "    </tr>\n",
              "  </tbody>\n",
              "</table>\n",
              "<p>55001 rows × 2 columns</p>\n",
              "</div>"
            ],
            "text/plain": [
              "                                                    text label\n",
              "0      @nas_alharbi8 والله حسب الأرقام سيكون مخيب للآ...     1\n",
              "1      \"الزعل بيغير ملامحك ، بيغير نظرة العين ، بيغير...     0\n",
              "2      الحب الحقيقي هو اقتسام بعض نفسك مع شخص أخر أقر...     1\n",
              "3                              @Mo_Fat7 النهضة في فتيل 😂     1\n",
              "4      @halgawi @DmfMohe ليس حباً في ايران بقدر ماهو ...     0\n",
              "...                                                  ...   ...\n",
              "54996  @MCgovSA تم رفع بلاغ بتاريخ 24-8 وتم اعتماده و...     0\n",
              "54997  #تصنيف_دايم_للتخصصات_الصحيه٥ بالامس تحدثونا عن...     0\n",
              "54998  @MCgovSA  اتمنى تحلون المشكله وش  يعني لما نلغ...     0\n",
              "54999  @mhrsd_care حاب استفسر اذا منشآتي من ضمن المنش...     0\n",
              "55000  @mhrsd_care تقولون كلمونا على شبكة التواصل ولا...     0\n",
              "\n",
              "[55001 rows x 2 columns]"
            ]
          },
          "metadata": {
            "tags": []
          },
          "execution_count": 5
        }
      ]
    },
    {
      "cell_type": "code",
      "metadata": {
        "id": "QQ92v6NpRxsq"
      },
      "source": [
        "df_test = df_test.dropna()"
      ],
      "execution_count": 6,
      "outputs": []
    },
    {
      "cell_type": "code",
      "metadata": {
        "colab": {
          "base_uri": "https://localhost:8080/",
          "height": 402
        },
        "id": "-OfSp6YHba-U",
        "outputId": "5f00a4ac-42cc-49a0-d031-e4e4660f8ad7"
      },
      "source": [
        "df_test"
      ],
      "execution_count": 7,
      "outputs": [
        {
          "output_type": "execute_result",
          "data": {
            "text/html": [
              "<div>\n",
              "<style scoped>\n",
              "    .dataframe tbody tr th:only-of-type {\n",
              "        vertical-align: middle;\n",
              "    }\n",
              "\n",
              "    .dataframe tbody tr th {\n",
              "        vertical-align: top;\n",
              "    }\n",
              "\n",
              "    .dataframe thead th {\n",
              "        text-align: right;\n",
              "    }\n",
              "</style>\n",
              "<table border=\"1\" class=\"dataframe\">\n",
              "  <thead>\n",
              "    <tr style=\"text-align: right;\">\n",
              "      <th></th>\n",
              "      <th>text</th>\n",
              "      <th>label</th>\n",
              "    </tr>\n",
              "  </thead>\n",
              "  <tbody>\n",
              "    <tr>\n",
              "      <th>0</th>\n",
              "      <td>@nas_alharbi8 والله حسب الأرقام سيكون مخيب للآ...</td>\n",
              "      <td>1</td>\n",
              "    </tr>\n",
              "    <tr>\n",
              "      <th>1</th>\n",
              "      <td>\"الزعل بيغير ملامحك ، بيغير نظرة العين ، بيغير...</td>\n",
              "      <td>0</td>\n",
              "    </tr>\n",
              "    <tr>\n",
              "      <th>2</th>\n",
              "      <td>الحب الحقيقي هو اقتسام بعض نفسك مع شخص أخر أقر...</td>\n",
              "      <td>1</td>\n",
              "    </tr>\n",
              "    <tr>\n",
              "      <th>3</th>\n",
              "      <td>@Mo_Fat7 النهضة في فتيل 😂</td>\n",
              "      <td>1</td>\n",
              "    </tr>\n",
              "    <tr>\n",
              "      <th>4</th>\n",
              "      <td>@halgawi @DmfMohe ليس حباً في ايران بقدر ماهو ...</td>\n",
              "      <td>0</td>\n",
              "    </tr>\n",
              "    <tr>\n",
              "      <th>...</th>\n",
              "      <td>...</td>\n",
              "      <td>...</td>\n",
              "    </tr>\n",
              "    <tr>\n",
              "      <th>54996</th>\n",
              "      <td>@MCgovSA تم رفع بلاغ بتاريخ 24-8 وتم اعتماده و...</td>\n",
              "      <td>0</td>\n",
              "    </tr>\n",
              "    <tr>\n",
              "      <th>54997</th>\n",
              "      <td>#تصنيف_دايم_للتخصصات_الصحيه٥ بالامس تحدثونا عن...</td>\n",
              "      <td>0</td>\n",
              "    </tr>\n",
              "    <tr>\n",
              "      <th>54998</th>\n",
              "      <td>@MCgovSA  اتمنى تحلون المشكله وش  يعني لما نلغ...</td>\n",
              "      <td>0</td>\n",
              "    </tr>\n",
              "    <tr>\n",
              "      <th>54999</th>\n",
              "      <td>@mhrsd_care حاب استفسر اذا منشآتي من ضمن المنش...</td>\n",
              "      <td>0</td>\n",
              "    </tr>\n",
              "    <tr>\n",
              "      <th>55000</th>\n",
              "      <td>@mhrsd_care تقولون كلمونا على شبكة التواصل ولا...</td>\n",
              "      <td>0</td>\n",
              "    </tr>\n",
              "  </tbody>\n",
              "</table>\n",
              "<p>55000 rows × 2 columns</p>\n",
              "</div>"
            ],
            "text/plain": [
              "                                                    text label\n",
              "0      @nas_alharbi8 والله حسب الأرقام سيكون مخيب للآ...     1\n",
              "1      \"الزعل بيغير ملامحك ، بيغير نظرة العين ، بيغير...     0\n",
              "2      الحب الحقيقي هو اقتسام بعض نفسك مع شخص أخر أقر...     1\n",
              "3                              @Mo_Fat7 النهضة في فتيل 😂     1\n",
              "4      @halgawi @DmfMohe ليس حباً في ايران بقدر ماهو ...     0\n",
              "...                                                  ...   ...\n",
              "54996  @MCgovSA تم رفع بلاغ بتاريخ 24-8 وتم اعتماده و...     0\n",
              "54997  #تصنيف_دايم_للتخصصات_الصحيه٥ بالامس تحدثونا عن...     0\n",
              "54998  @MCgovSA  اتمنى تحلون المشكله وش  يعني لما نلغ...     0\n",
              "54999  @mhrsd_care حاب استفسر اذا منشآتي من ضمن المنش...     0\n",
              "55000  @mhrsd_care تقولون كلمونا على شبكة التواصل ولا...     0\n",
              "\n",
              "[55000 rows x 2 columns]"
            ]
          },
          "metadata": {
            "tags": []
          },
          "execution_count": 7
        }
      ]
    },
    {
      "cell_type": "code",
      "metadata": {
        "id": "qxKb30GI7Mcr"
      },
      "source": [
        "df_train = df_test.sample(n=50000)\r\n",
        "df_test =df_test.sample(n=5000)"
      ],
      "execution_count": 8,
      "outputs": []
    },
    {
      "cell_type": "code",
      "metadata": {
        "id": "NLecgKvA_Q8p"
      },
      "source": [
        "# data preprocessing: clear and clean the data from nonsense letters and words\n",
        "\n",
        "import re\n",
        "\n",
        "lst= ['#','%','@','*', ':']\n",
        "pat1 = r'@[A-Za-z0-9]+'\n",
        "\n",
        "def tokenize(tweet):\n",
        "    num = re.compile(r'[0-9]+')\n",
        "    tweet = re.sub(num, \"\", str(tweet))\n",
        "    tokens = tokenizer.tokenize(str(tweet))\n",
        "    for i in lst:\n",
        "        if i in tokens:\n",
        "            tokens.remove(i)\n",
        "    return tokens\n",
        "                                \n",
        "#df_total['tokens'] = df_total['text'].apply(tokenize)\n",
        "df_test['tokens'] = df_test['text'].apply(tokenize)\n",
        "df_train['tokens'] = df_train['text'].apply(tokenize)"
      ],
      "execution_count": 9,
      "outputs": []
    },
    {
      "cell_type": "code",
      "metadata": {
        "id": "1Ah4ehX9_Q8q"
      },
      "source": [
        "# Data segmentation, \n",
        "#X_train, X_test, y_train, y_test = train_test_split(df_total['tokens'], df_total['label'], test_size=0.33, random_state=42)"
      ],
      "execution_count": 10,
      "outputs": []
    },
    {
      "cell_type": "markdown",
      "metadata": {
        "id": "QDvqJTS9_Q8s"
      },
      "source": [
        "## Use the trained Word2Vec model "
      ]
    },
    {
      "cell_type": "code",
      "metadata": {
        "id": "yfbLNcgt_Q8s"
      },
      "source": [
        "w2v = Word2Vec.load('/content/drive/My Drive/arabic sentiment analysis/arabic-sentiment-analysis/cbow.bin')"
      ],
      "execution_count": 11,
      "outputs": []
    },
    {
      "cell_type": "code",
      "metadata": {
        "colab": {
          "base_uri": "https://localhost:8080/"
        },
        "id": "0c0zFaa4_Q8s",
        "outputId": "92d937b5-7108-4ad5-fcd3-f1971cc67787"
      },
      "source": [
        "# Test word and sees it similarity\n",
        "w2v.wv.most_similar('العهد')"
      ],
      "execution_count": 12,
      "outputs": [
        {
          "output_type": "execute_result",
          "data": {
            "text/plain": [
              "[('ولي', 0.9438014030456543),\n",
              " ('عهده', 0.8968819975852966),\n",
              " ('عهدنا', 0.88190758228302),\n",
              " ('عهد', 0.8595527410507202),\n",
              " ('الامير', 0.8186361193656921),\n",
              " ('سيدي', 0.8035902976989746),\n",
              " ('لولي', 0.794856071472168),\n",
              " ('خادم', 0.7939093112945557),\n",
              " ('الشاب', 0.7750820517539978),\n",
              " ('حكم', 0.768715500831604)]"
            ]
          },
          "metadata": {
            "tags": []
          },
          "execution_count": 12
        }
      ]
    },
    {
      "cell_type": "code",
      "metadata": {
        "id": "94GQjFmv_Q8t"
      },
      "source": [
        "pretrained_weights = w2v.wv.vectors"
      ],
      "execution_count": 13,
      "outputs": []
    },
    {
      "cell_type": "code",
      "metadata": {
        "id": "mJO2-ItW_Q8u"
      },
      "source": [
        "vocab_size, emdedding_size = pretrained_weights.shape"
      ],
      "execution_count": 14,
      "outputs": []
    },
    {
      "cell_type": "code",
      "metadata": {
        "id": "uTiqsVeK_Q8v"
      },
      "source": [
        "def word2idx(word):\n",
        "    return w2v.wv.vocab[word].index\n",
        "\n",
        "def idx2word(idx):\n",
        "    return w2v.wv.index2word[idx]"
      ],
      "execution_count": 15,
      "outputs": []
    },
    {
      "cell_type": "code",
      "metadata": {
        "colab": {
          "base_uri": "https://localhost:8080/"
        },
        "id": "99etXDfl_Q80",
        "outputId": "925090b1-3b8c-4a35-b00d-b0ff3d84b9b5"
      },
      "source": [
        "# To find importance of the word with respect to the corpus.\n",
        "# see: http://scikit-learn.org/stable/modules/generated/sklearn.feature_extraction.text.TfidfVectorizer.html\n",
        "\n",
        "print('building tf-idf matrix ...')\n",
        "vectorizer = TfidfVectorizer(analyzer=lambda x: x, min_df=10)\n",
        "matrix = vectorizer.fit_transform([x for x in df_train[\"text\"]])\n",
        "tfidf = dict(zip(vectorizer.get_feature_names(), vectorizer.idf_))\n",
        "print('vocab size :', len(tfidf))"
      ],
      "execution_count": 16,
      "outputs": [
        {
          "output_type": "stream",
          "text": [
            "building tf-idf matrix ...\n",
            "vocab size : 388\n"
          ],
          "name": "stdout"
        }
      ]
    },
    {
      "cell_type": "code",
      "metadata": {
        "id": "6UVGBcH0_Q84"
      },
      "source": [
        "# convert tokens to vector of words\n",
        "\n",
        "def buildWordVector(tokens, size):\n",
        "    vec = np.zeros(size).reshape((1, size))\n",
        "    count = 0.\n",
        "    for word in tokens:\n",
        "        try:\n",
        "            vec += w2v[word].reshape((1, size)) * tfidf[word]\n",
        "            count += 1.\n",
        "        except KeyError: # handling the case where the token is not\n",
        "            continue\n",
        "    if count != 0:\n",
        "        vec /= count\n",
        "    return vec"
      ],
      "execution_count": 17,
      "outputs": []
    },
    {
      "cell_type": "code",
      "metadata": {
        "colab": {
          "base_uri": "https://localhost:8080/"
        },
        "id": "TAL1VXni_Q86",
        "scrolled": true,
        "outputId": "c1a0c831-7451-4905-c606-db2bf03dadaa"
      },
      "source": [
        "# Scale data and build words vector\n",
        "from sklearn.preprocessing import scale\n",
        "\n",
        "n_dim = 200\n",
        "\n",
        "train_vecs_w2v = np.concatenate([buildWordVector(z, n_dim) for z in tqdm(map(lambda x: x, df_train[\"text\"]))])\n",
        "train_vecs_w2v = scale(train_vecs_w2v)\n",
        "\n",
        "test_vecs_w2v = np.concatenate([buildWordVector(z, n_dim) for z in tqdm(map(lambda x: x, df_test[\"text\"]))])\n",
        "test_vecs_w2v = scale(test_vecs_w2v)\n"
      ],
      "execution_count": 18,
      "outputs": [
        {
          "output_type": "stream",
          "text": [
            "0it [00:00, ?it/s]/usr/local/lib/python3.6/dist-packages/ipykernel_launcher.py:8: DeprecationWarning: Call to deprecated `__getitem__` (Method will be removed in 4.0.0, use self.wv.__getitem__() instead).\n",
            "  \n",
            "50000it [00:37, 1320.27it/s]\n",
            "0it [00:00, ?it/s]/usr/local/lib/python3.6/dist-packages/ipykernel_launcher.py:8: DeprecationWarning: Call to deprecated `__getitem__` (Method will be removed in 4.0.0, use self.wv.__getitem__() instead).\n",
            "  \n",
            "5000it [00:03, 1296.96it/s]\n"
          ],
          "name": "stderr"
        }
      ]
    },
    {
      "cell_type": "code",
      "metadata": {
        "id": "S_OEsaYD_Q8-"
      },
      "source": [
        "from keras.models import Sequential\n",
        "from keras.layers import Dense, LSTM, Embedding, Activation, Flatten, Bidirectional\n",
        "from keras.utils import to_categorical\n",
        "import keras_metrics\n",
        "df_train[\"label\"] = df_train[\"label\"].replace(np.nan, 0)\n",
        "df_test[\"label\"] = df_test[\"label\"].replace(np.nan, 0)\n",
        "\n",
        "# convent labels to categorical classes\n",
        "cy_train = to_categorical(df_train[\"label\"])\n",
        "cy_test = to_categorical(df_test[\"label\"])"
      ],
      "execution_count": 19,
      "outputs": []
    },
    {
      "cell_type": "code",
      "metadata": {
        "id": "lEmIcZAz_Q9D"
      },
      "source": [
        "from keras import backend as K\n",
        "\n",
        "\n",
        "# calculate f score\n",
        "def f1(y_true, y_pred):\n",
        "    def recall(y_true, y_pred):\n",
        "        \"\"\"Recall metric.\n",
        "\n",
        "        Only computes a batch-wise average of recall.\n",
        "\n",
        "        Computes the recall, a metric for multi-label classification of\n",
        "        how many relevant items are selected.\n",
        "        \"\"\"\n",
        "        true_positives = K.sum(K.round(K.clip(y_true * y_pred, 0, 1)))\n",
        "        possible_positives = K.sum(K.round(K.clip(y_true, 0, 1)))\n",
        "        recall = true_positives / (possible_positives + K.epsilon())\n",
        "        return recall\n",
        "\n",
        "    def precision(y_true, y_pred):\n",
        "        \"\"\"Precision metric.\n",
        "\n",
        "        Only computes a batch-wise average of precision.\n",
        "\n",
        "        Computes the precision, a metric for multi-label classification of\n",
        "        how many selected items are relevant.\n",
        "        \"\"\"\n",
        "        true_positives = K.sum(K.round(K.clip(y_true * y_pred, 0, 1)))\n",
        "        predicted_positives = K.sum(K.round(K.clip(y_pred, 0, 1)))\n",
        "        precision = true_positives / (predicted_positives + K.epsilon())\n",
        "        return precision\n",
        "    precision = precision(y_true, y_pred)\n",
        "    recall = recall(y_true, y_pred)\n",
        "    return 2*((precision*recall)/(precision+recall+K.epsilon()))\n",
        "\n"
      ],
      "execution_count": 20,
      "outputs": []
    },
    {
      "cell_type": "markdown",
      "metadata": {
        "id": "x8E1OBZU_Q9F"
      },
      "source": [
        "# LSTM"
      ]
    },
    {
      "cell_type": "code",
      "metadata": {
        "id": "kYBlytA5MoVd"
      },
      "source": [
        "import keras "
      ],
      "execution_count": 21,
      "outputs": []
    },
    {
      "cell_type": "code",
      "metadata": {
        "colab": {
          "base_uri": "https://localhost:8080/"
        },
        "id": "KQl_GWB0_Q9I",
        "outputId": "be5f1853-a503-4c1a-d03e-2e17afddc771"
      },
      "source": [
        "lstm_model = Sequential()\n",
        "lstm_model.add(LSTM(100, dropout=0.2, recurrent_dropout=0.2 , return_sequences=True))\n",
        "lstm_model.add(LSTM(128, dropout=0.2, recurrent_dropout=0.2,))\n",
        "lstm_model.add(Dense(3, activation='softmax'))\n",
        "lstm_model.compile(optimizer=keras.optimizers.Adam(),\n",
        "              loss='categorical_crossentropy',\n",
        "              metrics=['accuracy', \n",
        "                       keras_metrics.precision(),\n",
        "                      keras_metrics.recall(),\n",
        "                      f1])\n",
        "\n",
        "lstm_his = lstm_model.fit(train_vecs_w2v.reshape((train_vecs_w2v.shape[0],1,200)), cy_train, epochs=30, batch_size=32, verbose=2)\n",
        "lstm_model.summary()"
      ],
      "execution_count": 22,
      "outputs": [
        {
          "output_type": "stream",
          "text": [
            "Epoch 1/30\n",
            "WARNING:tensorflow:`add_update` `inputs` kwarg has been deprecated. You no longer need to pass a value to `inputs` as it is being automatically inferred.\n",
            "WARNING:tensorflow:`add_update` `inputs` kwarg has been deprecated. You no longer need to pass a value to `inputs` as it is being automatically inferred.\n",
            "WARNING:tensorflow:`add_update` `inputs` kwarg has been deprecated. You no longer need to pass a value to `inputs` as it is being automatically inferred.\n",
            "WARNING:tensorflow:`add_update` `inputs` kwarg has been deprecated. You no longer need to pass a value to `inputs` as it is being automatically inferred.\n"
          ],
          "name": "stdout"
        },
        {
          "output_type": "stream",
          "text": [
            "/usr/local/lib/python3.6/dist-packages/tensorflow/python/keras/engine/base_layer.py:1402: UserWarning: `layer.updates` will be removed in a future version. This property should not be used in TensorFlow 2.0, as `updates` are applied automatically.\n",
            "  warnings.warn('`layer.updates` will be removed in a future version. '\n"
          ],
          "name": "stderr"
        },
        {
          "output_type": "stream",
          "text": [
            "WARNING:tensorflow:`add_update` `inputs` kwarg has been deprecated. You no longer need to pass a value to `inputs` as it is being automatically inferred.\n",
            "WARNING:tensorflow:`add_update` `inputs` kwarg has been deprecated. You no longer need to pass a value to `inputs` as it is being automatically inferred.\n",
            "WARNING:tensorflow:`add_update` `inputs` kwarg has been deprecated. You no longer need to pass a value to `inputs` as it is being automatically inferred.\n",
            "WARNING:tensorflow:`add_update` `inputs` kwarg has been deprecated. You no longer need to pass a value to `inputs` as it is being automatically inferred.\n",
            "1563/1563 - 18s - loss: 0.6771 - accuracy: 0.7452 - precision: 0.7577 - recall: 0.8577 - f1: 0.7291\n",
            "Epoch 2/30\n",
            "1563/1563 - 12s - loss: 0.6415 - accuracy: 0.7542 - precision: 0.7723 - recall: 0.9283 - f1: 0.7481\n",
            "Epoch 3/30\n",
            "1563/1563 - 11s - loss: 0.6311 - accuracy: 0.7586 - precision: 0.7772 - recall: 0.9277 - f1: 0.7527\n",
            "Epoch 4/30\n",
            "1563/1563 - 11s - loss: 0.6232 - accuracy: 0.7611 - precision: 0.7790 - recall: 0.9323 - f1: 0.7560\n",
            "Epoch 5/30\n",
            "1563/1563 - 11s - loss: 0.6182 - accuracy: 0.7628 - precision: 0.7776 - recall: 0.9317 - f1: 0.7576\n",
            "Epoch 6/30\n",
            "1563/1563 - 11s - loss: 0.6147 - accuracy: 0.7621 - precision: 0.7776 - recall: 0.9347 - f1: 0.7575\n",
            "Epoch 7/30\n",
            "1563/1563 - 12s - loss: 0.6106 - accuracy: 0.7637 - precision: 0.7803 - recall: 0.9319 - f1: 0.7599\n",
            "Epoch 8/30\n",
            "1563/1563 - 11s - loss: 0.6076 - accuracy: 0.7659 - precision: 0.7801 - recall: 0.9357 - f1: 0.7619\n",
            "Epoch 9/30\n",
            "1563/1563 - 12s - loss: 0.6041 - accuracy: 0.7675 - precision: 0.7808 - recall: 0.9300 - f1: 0.7632\n",
            "Epoch 10/30\n",
            "1563/1563 - 11s - loss: 0.6002 - accuracy: 0.7679 - precision: 0.7815 - recall: 0.9298 - f1: 0.7639\n",
            "Epoch 11/30\n",
            "1563/1563 - 11s - loss: 0.5979 - accuracy: 0.7688 - precision: 0.7811 - recall: 0.9377 - f1: 0.7647\n",
            "Epoch 12/30\n",
            "1563/1563 - 12s - loss: 0.5950 - accuracy: 0.7692 - precision: 0.7867 - recall: 0.9405 - f1: 0.7660\n",
            "Epoch 13/30\n",
            "1563/1563 - 12s - loss: 0.5940 - accuracy: 0.7700 - precision: 0.7848 - recall: 0.9333 - f1: 0.7660\n",
            "Epoch 14/30\n",
            "1563/1563 - 11s - loss: 0.5917 - accuracy: 0.7710 - precision: 0.7837 - recall: 0.9333 - f1: 0.7668\n",
            "Epoch 15/30\n",
            "1563/1563 - 11s - loss: 0.5899 - accuracy: 0.7711 - precision: 0.7876 - recall: 0.9339 - f1: 0.7676\n",
            "Epoch 16/30\n",
            "1563/1563 - 12s - loss: 0.5878 - accuracy: 0.7733 - precision: 0.7844 - recall: 0.9363 - f1: 0.7697\n",
            "Epoch 17/30\n",
            "1563/1563 - 12s - loss: 0.5857 - accuracy: 0.7736 - precision: 0.7864 - recall: 0.9357 - f1: 0.7705\n",
            "Epoch 18/30\n",
            "1563/1563 - 12s - loss: 0.5843 - accuracy: 0.7731 - precision: 0.7855 - recall: 0.9346 - f1: 0.7707\n",
            "Epoch 19/30\n",
            "1563/1563 - 12s - loss: 0.5825 - accuracy: 0.7747 - precision: 0.7858 - recall: 0.9354 - f1: 0.7712\n",
            "Epoch 20/30\n",
            "1563/1563 - 11s - loss: 0.5804 - accuracy: 0.7740 - precision: 0.7881 - recall: 0.9341 - f1: 0.7714\n",
            "Epoch 21/30\n",
            "1563/1563 - 11s - loss: 0.5779 - accuracy: 0.7759 - precision: 0.7894 - recall: 0.9359 - f1: 0.7727\n",
            "Epoch 22/30\n",
            "1563/1563 - 11s - loss: 0.5775 - accuracy: 0.7747 - precision: 0.7867 - recall: 0.9373 - f1: 0.7715\n",
            "Epoch 23/30\n",
            "1563/1563 - 11s - loss: 0.5754 - accuracy: 0.7760 - precision: 0.7911 - recall: 0.9395 - f1: 0.7735\n",
            "Epoch 24/30\n",
            "1563/1563 - 11s - loss: 0.5754 - accuracy: 0.7766 - precision: 0.7894 - recall: 0.9382 - f1: 0.7732\n",
            "Epoch 25/30\n",
            "1563/1563 - 11s - loss: 0.5733 - accuracy: 0.7769 - precision: 0.7907 - recall: 0.9378 - f1: 0.7739\n",
            "Epoch 26/30\n",
            "1563/1563 - 12s - loss: 0.5751 - accuracy: 0.7755 - precision: 0.7875 - recall: 0.9347 - f1: 0.7720\n",
            "Epoch 27/30\n",
            "1563/1563 - 12s - loss: 0.5715 - accuracy: 0.7782 - precision: 0.7936 - recall: 0.9372 - f1: 0.7747\n",
            "Epoch 28/30\n",
            "1563/1563 - 12s - loss: 0.5684 - accuracy: 0.7789 - precision: 0.7925 - recall: 0.9398 - f1: 0.7759\n",
            "Epoch 29/30\n",
            "1563/1563 - 11s - loss: 0.5672 - accuracy: 0.7784 - precision: 0.7900 - recall: 0.9369 - f1: 0.7761\n",
            "Epoch 30/30\n",
            "1563/1563 - 11s - loss: 0.5666 - accuracy: 0.7792 - precision: 0.7935 - recall: 0.9363 - f1: 0.7761\n",
            "Model: \"sequential\"\n",
            "_________________________________________________________________\n",
            "Layer (type)                 Output Shape              Param #   \n",
            "=================================================================\n",
            "lstm (LSTM)                  (None, 1, 100)            120400    \n",
            "_________________________________________________________________\n",
            "lstm_1 (LSTM)                (None, 128)               117248    \n",
            "_________________________________________________________________\n",
            "dense (Dense)                (None, 3)                 387       \n",
            "=================================================================\n",
            "Total params: 238,035\n",
            "Trainable params: 238,035\n",
            "Non-trainable params: 0\n",
            "_________________________________________________________________\n"
          ],
          "name": "stdout"
        }
      ]
    },
    {
      "cell_type": "code",
      "metadata": {
        "colab": {
          "base_uri": "https://localhost:8080/"
        },
        "id": "WNlEWa-O_Q9I",
        "outputId": "3366b18d-550f-408f-a2c6-382976cf9f44"
      },
      "source": [
        "score = lstm_model.evaluate(test_vecs_w2v.reshape((test_vecs_w2v.shape[0], 1, test_vecs_w2v.shape[1])), cy_test, batch_size=128, verbose=2)\n",
        "print('LSTM model acuracy: {}'.format(score[1]*100))"
      ],
      "execution_count": 23,
      "outputs": [
        {
          "output_type": "stream",
          "text": [
            "WARNING:tensorflow:`add_update` `inputs` kwarg has been deprecated. You no longer need to pass a value to `inputs` as it is being automatically inferred.\n",
            "WARNING:tensorflow:`add_update` `inputs` kwarg has been deprecated. You no longer need to pass a value to `inputs` as it is being automatically inferred.\n",
            "WARNING:tensorflow:`add_update` `inputs` kwarg has been deprecated. You no longer need to pass a value to `inputs` as it is being automatically inferred.\n",
            "WARNING:tensorflow:`add_update` `inputs` kwarg has been deprecated. You no longer need to pass a value to `inputs` as it is being automatically inferred.\n"
          ],
          "name": "stdout"
        },
        {
          "output_type": "stream",
          "text": [
            "/usr/local/lib/python3.6/dist-packages/tensorflow/python/keras/engine/base_layer.py:1402: UserWarning: `layer.updates` will be removed in a future version. This property should not be used in TensorFlow 2.0, as `updates` are applied automatically.\n",
            "  warnings.warn('`layer.updates` will be removed in a future version. '\n"
          ],
          "name": "stderr"
        },
        {
          "output_type": "stream",
          "text": [
            "40/40 - 1s - loss: 0.5495 - accuracy: 0.7850 - precision: 0.7824 - recall: 0.9560 - f1: 0.7851\n",
            "LSTM model acuracy: 78.50000262260437\n"
          ],
          "name": "stdout"
        }
      ]
    },
    {
      "cell_type": "code",
      "metadata": {
        "id": "flnFEqhcf1zi"
      },
      "source": [
        "y_pred = lstm_model.predict(test_vecs_w2v.reshape((test_vecs_w2v.shape[0], 1, test_vecs_w2v.shape[1])))\r\n",
        "y_pred = np.argmax(y_pred , axis = 1)\r\n",
        "y_test = np.argmax(cy_test, axis=1)"
      ],
      "execution_count": 24,
      "outputs": []
    },
    {
      "cell_type": "code",
      "metadata": {
        "colab": {
          "base_uri": "https://localhost:8080/"
        },
        "id": "9TOqD7tsg-dL",
        "outputId": "b94385dd-f74b-45ec-dc44-322b32bbb14f"
      },
      "source": [
        "from sklearn import metrics\r\n",
        "print(metrics.confusion_matrix(y_test, list(y_pred)))"
      ],
      "execution_count": 25,
      "outputs": [
        {
          "output_type": "stream",
          "text": [
            "[[3231   73   38]\n",
            " [ 301  498   13]\n",
            " [ 631   19  196]]\n"
          ],
          "name": "stdout"
        }
      ]
    },
    {
      "cell_type": "code",
      "metadata": {
        "colab": {
          "base_uri": "https://localhost:8080/"
        },
        "id": "nO-lx8DKh0By",
        "outputId": "9eb78b74-588f-4797-c4bd-1606e28296d8"
      },
      "source": [
        "import numpy as np\r\n",
        "from sklearn.metrics import f1_score\r\n",
        "print(f1_score(y_test, y_pred, average=None))"
      ],
      "execution_count": 26,
      "outputs": [
        {
          "output_type": "stream",
          "text": [
            "[0.86102598 0.71041369 0.35864593]\n"
          ],
          "name": "stdout"
        }
      ]
    },
    {
      "cell_type": "code",
      "metadata": {
        "id": "IG3XPkSAiEv4",
        "colab": {
          "base_uri": "https://localhost:8080/"
        },
        "outputId": "bbb16018-963f-40e8-ca0f-ed6b692d7186"
      },
      "source": [
        "from sklearn.metrics import recall_score\r\n",
        "print(recall_score(y_test, y_pred, average=None))"
      ],
      "execution_count": 27,
      "outputs": [
        {
          "output_type": "stream",
          "text": [
            "[0.96678636 0.61330049 0.23167849]\n"
          ],
          "name": "stdout"
        }
      ]
    }
  ]
}